{
 "cells": [
  {
   "cell_type": "code",
   "execution_count": null,
   "id": "initial_id",
   "metadata": {
    "ExecuteTime": {
     "end_time": "2025-03-20T07:58:41.900690Z",
     "start_time": "2025-03-20T07:58:40.580154Z"
    },
    "collapsed": true
   },
   "outputs": [
    {
     "data": {
      "application/vnd.jupyter.widget-view+json": {
       "model_id": "f62a55a75f0c4594b94d7cc01be881be",
       "version_major": 2,
       "version_minor": 0
      },
      "text/plain": [
       "Generating train split: 0 examples [00:00, ? examples/s]"
      ]
     },
     "metadata": {},
     "output_type": "display_data"
    },
    {
     "data": {
      "text/plain": [
       "Dataset({\n",
       "    features: ['reason', 'diseases', 'feature_content'],\n",
       "    num_rows: 5000\n",
       "})"
      ]
     },
     "execution_count": 16,
     "metadata": {},
     "output_type": "execute_result"
    }
   ],
   "source": [
    "from datasets import load_dataset, Features, Value\n",
    "\n",
    "correct_with_label_cleaned_dataset_path = './datasets/correct_with_label_cleaned_camp_data.jsonl'\n",
    "\n",
    "_features = Features({\n",
    "    'reason': Value('string'),\n",
    "    'diseases': Value('string'),\n",
    "    'feature_content': Value('string')\n",
    "})\n",
    "\n",
    "formatted_dataset = load_dataset(\n",
    "    \"json\", \n",
    "    data_files=correct_with_label_cleaned_dataset_path, \n",
    "    split=\"train\", \n",
    "    features=_features,\n",
    ")\n",
    "formatted_dataset"
   ]
  },
  {
   "cell_type": "code",
   "execution_count": 19,
   "id": "c55aa824a7f4cf77",
   "metadata": {},
   "outputs": [
    {
     "data": {
      "text/plain": [
       "{'text': 'Below is an instruction that describes a task, paired with an input that provides further context. Write a response that appropriately completes the request.\\n### Instruction:\\n1. 患者为54岁女性，主诉糖尿病多年，目前服用二甲双胍治疗，但血糖控制不佳；\\n2. 现病史表明患者糖尿病需调整治疗方案，但未提供空腹血糖和餐后血糖具体数值；\\n3. 无其他特殊既往史、过敏史或流行病学史；\\n4. 体格检查中血压正常，其他生命体征无异常记录；\\n5. 目前需进一步评估血糖控制情况，考虑调整治疗方案。\\n### Input:\\n2型糖尿病\\n### Response:\\n性别: 女\\n年龄: 54\\n主诉: 糖尿病多年\\n现病史: 病人糖尿病多年，服用二甲双胍治疗，血糖控制不佳，建议调整治疗\\n既往史: 无特殊\\n个人史: \\n过敏史: 无\\n婚育史: \\n流行病史: □1、发病前14天内有病例报告社区的旅行史或居住史；□2、发病前14天内与新型冠状病毒感染的患者或无症状感染者有接触史；□3、发病前14天内曾接触过来自有病例报告社区的发热或有呼吸道症状的患者；□4、聚集性发病（2周内在小范围如家庭、办公室、学校班级等场所，出现2例及以上发热和/或呼吸道症状的病例）；√5、无上述流行病学史。\\n体格检查: 血压（收缩压/舒张压）130/80mmHg  \\n  空腹血糖测定值：mmol/L  \\n  餐后血糖测定值：mmol/L  \\n  T：℃  \\n  P：次/分  \\n  R：次/分  \\n  神志：   \\n  呼吸：  \\n  \\n辅助检查: 暂无'}"
      ]
     },
     "execution_count": 19,
     "metadata": {},
     "output_type": "execute_result"
    }
   ],
   "source": [
    "alpaca_prompt = \"\"\"Below is an instruction that describes a task, paired with an input that provides further context. Write a response that appropriately completes the request.\n",
    "### Instruction:\n",
    "{}\n",
    "### Input:\n",
    "{}\n",
    "### Response:\n",
    "{}\"\"\"\n",
    "def format_to_alpaca(example):\n",
    "    instruction = example['reason']\n",
    "    input_text = example['diseases']\n",
    "    response = example['feature_content']\n",
    "    text = alpaca_prompt.format(instruction, input_text, response)\n",
    "    return {\"text\": text}\n",
    "\n",
    "alpaca_formatted_dataset = formatted_dataset.map(format_to_alpaca, remove_columns=['reason', 'diseases', 'feature_content'])\n",
    "alpaca_formatted_dataset[0]"
   ]
  },
  {
   "cell_type": "code",
   "execution_count": null,
   "id": "c1a7ddb4",
   "metadata": {},
   "outputs": [],
   "source": []
  }
 ],
 "metadata": {
  "kernelspec": {
   "display_name": "ai",
   "language": "python",
   "name": "python3"
  },
  "language_info": {
   "codemirror_mode": {
    "name": "ipython",
    "version": 3
   },
   "file_extension": ".py",
   "mimetype": "text/x-python",
   "name": "python",
   "nbconvert_exporter": "python",
   "pygments_lexer": "ipython3",
   "version": "3.10.16"
  }
 },
 "nbformat": 4,
 "nbformat_minor": 5
}
