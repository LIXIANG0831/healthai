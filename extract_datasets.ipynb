{
 "cells": [
  {
   "cell_type": "code",
   "id": "initial_id",
   "metadata": {
    "collapsed": true,
    "ExecuteTime": {
     "end_time": "2025-03-20T07:58:41.900690Z",
     "start_time": "2025-03-20T07:58:40.580154Z"
    }
   },
   "source": [
    "from datasets import load_dataset\n",
    "\n",
    "alpaca_prompt = \"\"\"Below is an instruction that describes a task, paired with an input that provides further context. Write a response that appropriately completes the request.\n",
    "### Instruction:\n",
    "{}\n",
    "### Input:\n",
    "{}\n",
    "### Response:\n",
    "{}\"\"\"\n",
    "\n",
    "correct_with_label_cleaned_dataset_path = './datasets/correct_with_label_cleaned_camp_data.jsonl'\n",
    "\n",
    "formatted_dataset = load_dataset(\"json\", data_files=correct_with_label_cleaned_dataset_path, split=\"train\")\n",
    "\n",
    "def formatting_prompts_func(example):\n",
    "    feature_content = example[\"feature_content\"]\n",
    "    diseases = example[\"diseases\"]\n",
    "    reason = example[\"reason\"]\n",
    "\n",
    "    # 定义指令和输出\n",
    "    instruction = \"根据输入的特征内容，分析可能的疾病及其原因。\"\n",
    "    input = feature_content\n",
    "    output = \"\"\"\n",
    "    当前患者有可能罹患的疾病如下：\n",
    "    {}\n",
    "    以下是关于罹患疾病的分析：\n",
    "    {}\n",
    "    \"\"\".format(diseases, reason)\n",
    "\n",
    "    # 必须添加EOS_TOKEN，否则无限生成\n",
    "    formatted_prompt = alpaca_prompt.format(instruction, input, output)\n",
    "\n",
    "    return {\"formatted_prompt\": formatted_prompt}\n",
    "\n",
    "formatted_dataset = formatted_dataset.map(formatting_prompts_func)"
   ],
   "outputs": [
    {
     "ename": "AttributeError",
     "evalue": "'Dataset' object has no attribute 'head'",
     "output_type": "error",
     "traceback": [
      "\u001B[0;31m---------------------------------------------------------------------------\u001B[0m",
      "\u001B[0;31mAttributeError\u001B[0m                            Traceback (most recent call last)",
      "Cell \u001B[0;32mIn[2], line 36\u001B[0m\n\u001B[1;32m     33\u001B[0m     \u001B[38;5;28;01mreturn\u001B[39;00m {\u001B[38;5;124m\"\u001B[39m\u001B[38;5;124mformatted_prompt\u001B[39m\u001B[38;5;124m\"\u001B[39m: formatted_prompt}\n\u001B[1;32m     35\u001B[0m formatted_dataset \u001B[38;5;241m=\u001B[39m formatted_dataset\u001B[38;5;241m.\u001B[39mmap(formatting_prompts_func)\n\u001B[0;32m---> 36\u001B[0m \u001B[38;5;28mprint\u001B[39m(\u001B[43mformatted_dataset\u001B[49m\u001B[38;5;241;43m.\u001B[39;49m\u001B[43mhead\u001B[49m())\n",
      "\u001B[0;31mAttributeError\u001B[0m: 'Dataset' object has no attribute 'head'"
     ]
    }
   ],
   "execution_count": 2
  },
  {
   "metadata": {},
   "cell_type": "code",
   "outputs": [],
   "execution_count": null,
   "source": "",
   "id": "c55aa824a7f4cf77"
  }
 ],
 "metadata": {
  "kernelspec": {
   "display_name": "Python 3",
   "language": "python",
   "name": "python3"
  },
  "language_info": {
   "codemirror_mode": {
    "name": "ipython",
    "version": 2
   },
   "file_extension": ".py",
   "mimetype": "text/x-python",
   "name": "python",
   "nbconvert_exporter": "python",
   "pygments_lexer": "ipython2",
   "version": "2.7.6"
  }
 },
 "nbformat": 4,
 "nbformat_minor": 5
}
