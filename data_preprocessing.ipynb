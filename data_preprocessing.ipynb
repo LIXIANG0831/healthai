{
 "cells": [
  {
   "cell_type": "code",
   "id": "initial_id",
   "metadata": {
    "collapsed": true,
    "ExecuteTime": {
     "end_time": "2025-03-18T10:07:17.268344Z",
     "start_time": "2025-03-18T10:07:16.796382Z"
    }
   },
   "source": [
    "import pandas as pd\n",
    "raw_dataset_path = './datasets/raw/20250312115015_camp_data_step_2_without_answer.jsonl'\n",
    "cleaned_dataset_path = './datasets/cleaned_camp_data.jsonl'\n",
    "# 读取\n",
    "df = pd.read_json(raw_dataset_path, lines=True)\n",
    "# 转换为DF\n",
    "feature_content_column = df['feature_content']\n",
    "# 保存\n",
    "feature_content_column.to_frame().to_json(cleaned_dataset_path, orient=\"records\", lines=True, force_ascii=False)"
   ],
   "outputs": [],
   "execution_count": 1
  },
  {
   "metadata": {},
   "cell_type": "code",
   "outputs": [],
   "execution_count": null,
   "source": "",
   "id": "40e9c79b8445eb1e"
  }
 ],
 "metadata": {
  "kernelspec": {
   "display_name": "Python 3",
   "language": "python",
   "name": "python3"
  },
  "language_info": {
   "codemirror_mode": {
    "name": "ipython",
    "version": 2
   },
   "file_extension": ".py",
   "mimetype": "text/x-python",
   "name": "python",
   "nbconvert_exporter": "python",
   "pygments_lexer": "ipython2",
   "version": "2.7.6"
  }
 },
 "nbformat": 4,
 "nbformat_minor": 5
}
