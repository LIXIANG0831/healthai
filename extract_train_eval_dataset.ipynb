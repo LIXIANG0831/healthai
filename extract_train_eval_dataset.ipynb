{
 "cells": [
  {
   "cell_type": "code",
   "execution_count": 10,
   "id": "initial_id",
   "metadata": {
    "ExecuteTime": {
     "end_time": "2025-03-20T10:34:16.939237Z",
     "start_time": "2025-03-20T10:34:14.499134Z"
    },
    "collapsed": true
   },
   "outputs": [
    {
     "data": {
      "text/plain": [
       "Dataset({\n",
       "    features: ['reason', 'diseases', 'feature_content'],\n",
       "    num_rows: 5000\n",
       "})"
      ]
     },
     "execution_count": 10,
     "metadata": {},
     "output_type": "execute_result"
    }
   ],
   "source": [
    "from datasets import load_dataset, Features, Value\n",
    "\n",
    "correct_with_label_cleaned_dataset_path = './datasets/correct_with_label_cleaned_camp_data.jsonl'\n",
    "\n",
    "_features = Features({\n",
    "    'reason': Value('string'),\n",
    "    'diseases': Value('string'),\n",
    "    'feature_content': Value('string')\n",
    "})\n",
    "\n",
    "formatted_dataset = load_dataset(\n",
    "    \"json\", \n",
    "    data_files=correct_with_label_cleaned_dataset_path, \n",
    "    split=\"train\", \n",
    "    features=_features,\n",
    ")\n",
    "formatted_dataset"
   ]
  },
  {
   "cell_type": "code",
   "execution_count": 11,
   "id": "c55aa824a7f4cf77",
   "metadata": {
    "ExecuteTime": {
     "end_time": "2025-03-20T10:34:18.966144Z",
     "start_time": "2025-03-20T10:34:18.630608Z"
    }
   },
   "outputs": [
    {
     "data": {
      "text/plain": [
       "Dataset({\n",
       "    features: ['instruction', 'input', 'output'],\n",
       "    num_rows: 5000\n",
       "})"
      ]
     },
     "execution_count": 11,
     "metadata": {},
     "output_type": "execute_result"
    }
   ],
   "source": [
    "def format_to_alpaca(example):\n",
    "    instruction = \"你是一位经验丰富的临床医学专家，对各种疾病的症状、体征、检查结果和诊断标准有着深入的了解。同时，你擅长从病历中提取关键信息，运用专业知识进行综合分析，为疾病的诊断提供准确的依据。\"\n",
    "    input_text = example['feature_content']\n",
    "    diseases_text = example['diseases']\n",
    "    reason_text = example['reason']\n",
    "    output_text = \"\"\"\n",
    "    患者可能罹患的疾病是{}\n",
    "    依据如下:\n",
    "    {}\n",
    "    \"\"\".format(diseases_text, reason_text)\n",
    "    return {\"instruction\": instruction, \"input\": input_text, \"output\": output_text}\n",
    "\n",
    "alpaca_formatted_dataset = formatted_dataset.map(format_to_alpaca, remove_columns=['reason', 'diseases', 'feature_content'])\n",
    "alpaca_formatted_dataset"
   ]
  },
  {
   "cell_type": "code",
   "execution_count": 13,
   "id": "f7d7de11",
   "metadata": {},
   "outputs": [
    {
     "name": "stdout",
     "output_type": "stream",
     "text": [
      "3000 2000\n"
     ]
    }
   ],
   "source": [
    "# 划分训练集和验证集\n",
    "alpaca_formatted_dataset = alpaca_formatted_dataset.train_test_split(test_size=0.4, seed=322)\n",
    "alpaca_train_dataset = alpaca_formatted_dataset['train']\n",
    "alpaca_eval_dataset = alpaca_formatted_dataset['test']\n",
    "print(len(alpaca_train_dataset), len(alpaca_eval_dataset))"
   ]
  },
  {
   "cell_type": "code",
   "execution_count": 15,
   "id": "c1a7ddb4",
   "metadata": {
    "ExecuteTime": {
     "end_time": "2025-03-20T10:34:45.492969Z",
     "start_time": "2025-03-20T10:34:45.319661Z"
    }
   },
   "outputs": [
    {
     "data": {
      "application/vnd.jupyter.widget-view+json": {
       "model_id": "4eb49b49e08140309929f576ea994ae9",
       "version_major": 2,
       "version_minor": 0
      },
      "text/plain": [
       "Creating json from Arrow format:   0%|          | 0/3 [00:00<?, ?ba/s]"
      ]
     },
     "metadata": {},
     "output_type": "display_data"
    },
    {
     "data": {
      "application/vnd.jupyter.widget-view+json": {
       "model_id": "6164d2a7d58e4ec1a99265e8832136a0",
       "version_major": 2,
       "version_minor": 0
      },
      "text/plain": [
       "Creating json from Arrow format:   0%|          | 0/2 [00:00<?, ?ba/s]"
      ]
     },
     "metadata": {},
     "output_type": "display_data"
    },
    {
     "name": "stdout",
     "output_type": "stream",
     "text": [
      "Alpaca 格式化数据集已保存到: ./datasets/alpaca_train_dataset.jsonl\n",
      "Alpaca 格式化数据集已保存到: ./datasets/alpaca_eval_dataset.jsonl\n"
     ]
    }
   ],
   "source": [
    "alpaca_train_dataset_path = './datasets/alpaca_train_dataset.jsonl'\n",
    "alpaca_eval_dataset_path = './datasets/alpaca_eval_dataset.jsonl'\n",
    "alpaca_train_dataset.to_json(alpaca_train_dataset_path, force_ascii=False)\n",
    "alpaca_eval_dataset.to_json(alpaca_eval_dataset_path, force_ascii=False)\n",
    "print(f\"Alpaca 格式化数据集已保存到: {alpaca_train_dataset_path}\")\n",
    "print(f\"Alpaca 格式化数据集已保存到: {alpaca_eval_dataset_path}\")"
   ]
  },
  {
   "cell_type": "code",
   "execution_count": null,
   "id": "c250fff88696153a",
   "metadata": {},
   "outputs": [],
   "source": []
  }
 ],
 "metadata": {
  "kernelspec": {
   "display_name": "ai",
   "language": "python",
   "name": "python3"
  },
  "language_info": {
   "codemirror_mode": {
    "name": "ipython",
    "version": 3
   },
   "file_extension": ".py",
   "mimetype": "text/x-python",
   "name": "python",
   "nbconvert_exporter": "python",
   "pygments_lexer": "ipython3",
   "version": "3.10.16"
  }
 },
 "nbformat": 4,
 "nbformat_minor": 5
}
