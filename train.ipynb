{
 "cells": [
  {
   "cell_type": "code",
   "execution_count": null,
   "metadata": {},
   "outputs": [],
   "source": [
    "from unsloth import FastLanguageModel\n",
    "import torch\n",
    "from trl import SFTTrainer\n",
    "from transformers import TrainingArguments\n",
    "from transformers.trainer_utils import SaveStrategy\n",
    "from datasets import load_dataset, Features, Value\n",
    "import wandb\n",
    "\n",
    "# Wandb 初始化\n",
    "wandb.init(project=\"Qwen2.5-7B-Instruct-Lora-FineTuning\", name=\"25-3-21/1\")  # 你可以自定义项目名称和运行名称\n",
    "\n",
    "#本地模型目录\n",
    "cache_dir = '/root/.cache/modelscope/hub/models'\n",
    "model_name = f'{cache_dir}/Qwen/Qwen2.5-7B-Instruct'\n",
    "\n",
    "#加载模型\n",
    "max_seq_length = 2048\n",
    "dtype = None\n",
    "load_in_4bit = False\n",
    "\n",
    "model, tokenizer = FastLanguageModel.from_pretrained(\n",
    "    model_name=model_name,\n",
    "    max_seq_length=max_seq_length,\n",
    "    dtype=dtype,\n",
    "    load_in_4bit=load_in_4bit,\n",
    "    model_type='qwen2',\n",
    "    cache_dir=cache_dir\n",
    ")"
   ]
  },
  {
   "cell_type": "code",
   "execution_count": null,
   "metadata": {},
   "outputs": [],
   "source": [
    "# 训练数据集\n",
    "train_dataset_path = './datasets/alpaca_train_dataset.jsonl'\n",
    "\n",
    "EOS_TOKEN = tokenizer.eos_token # 必须添加 EOS_TOKEN\n",
    "\n",
    "_train_features = Features({\n",
    "    'instruction': Value('string'),\n",
    "    'input': Value('string'),\n",
    "    'output': Value('string')\n",
    "})\n",
    "\n",
    "train_dataset = load_dataset(\n",
    "    \"json\", \n",
    "    data_files=train_dataset_path, \n",
    "    split=\"train\", \n",
    "    features=_train_features,\n",
    ")"
   ]
  },
  {
   "cell_type": "code",
   "execution_count": null,
   "metadata": {},
   "outputs": [],
   "source": [
    "train_dataset"
   ]
  },
  {
   "cell_type": "code",
   "execution_count": null,
   "metadata": {},
   "outputs": [],
   "source": [
    "def formatting_alpaca_prompts_func(example):\n",
    "    alpaca_prompt = \"\"\"Below is an instruction that describes a task, paired with an input that provides further context. Write a response that appropriately completes the request.\n",
    "    ### Instruction:\n",
    "    {}\n",
    "    ### Input:\n",
    "    {}\n",
    "    ### Output:\n",
    "    {}\"\"\"\n",
    "\n",
    "    instruction = example['instruction']\n",
    "    input_text = example['input']\n",
    "    output_text = example['output']\n",
    "    \n",
    "    alpaca_prompt = alpaca_prompt.format(instruction, input_text, output_text)\n",
    "    \n",
    "    return {\"text\": alpaca_prompt}\n",
    "\n",
    "train_dataset = train_dataset.map(formatting_alpaca_prompts_func, remove_columns=['instruction','input','output'])\n",
    "train_dataset"
   ]
  },
  {
   "cell_type": "code",
   "execution_count": null,
   "metadata": {},
   "outputs": [],
   "source": [
    "#设置训练参数\n",
    "model = FastLanguageModel.get_peft_model(\n",
    "    model,\n",
    "    r=16,\n",
    "    target_modules=[\"q_proj\", \"k_proj\", \"v_proj\", \"o_proj\",\n",
    "                  \"gate_proj\", \"up_proj\", \"down_proj\",],\n",
    "    lora_alpha=32,\n",
    "    lora_dropout=0.05,\n",
    "    bias=\"none\",\n",
    "    use_gradient_checkpointing=True,\n",
    "    random_state=322,\n",
    "    max_seq_length=max_seq_length,\n",
    "    use_rslora=False,\n",
    "    loftq_config=None,\n",
    ")"
   ]
  },
  {
   "cell_type": "code",
   "execution_count": null,
   "metadata": {},
   "outputs": [],
   "source": [
    "checkpoint_save_path='/data/healthai/checkpoints'\n",
    "trainer = SFTTrainer(\n",
    "    model=model,\n",
    "    train_dataset=train_dataset,\n",
    "    dataset_text_field=\"text\",\n",
    "    max_seq_length=max_seq_length,\n",
    "    tokenizer=tokenizer,\n",
    "    args=TrainingArguments(\n",
    "        per_device_train_batch_size=2,\n",
    "        gradient_accumulation_steps=4,\n",
    "        warmup_steps=100,\n",
    "        # max_steps=60, # 训练迭代次数\n",
    "        num_train_epochs=3, # 基于 Epoch 训练\n",
    "        learning_rate=2e-4,\n",
    "        fp16=not torch.cuda.is_bf16_supported(),\n",
    "        bf16=torch.cuda.is_bf16_supported(),\n",
    "        logging_steps=10,\n",
    "        save_strategy=SaveStrategy.EPOCH,\n",
    "        output_dir=checkpoint_save_path, # checkpoints 存放目录\n",
    "        optim=\"adamw_8bit\",\n",
    "        weight_decay=0.01,\n",
    "        lr_scheduler_type=\"linear\",\n",
    "        seed=322,\n",
    "        report_to=\"wandb\",  #  启用 Wandb 集成\n",
    "    ),\n",
    ")"
   ]
  },
  {
   "cell_type": "code",
   "execution_count": null,
   "metadata": {},
   "outputs": [],
   "source": [
    "#开始训练\n",
    "trainer.train()\n",
    "\n",
    "#保存微调模型\n",
    "model.save_pretrained(\"Qwen-2.5-7B-Instruct-Lora\")"
   ]
  },
  {
   "cell_type": "code",
   "execution_count": null,
   "metadata": {},
   "outputs": [],
   "source": [
    "# Wandb 结束\n",
    "wandb.finish()"
   ]
  }
 ],
 "metadata": {
  "kernelspec": {
   "display_name": "ai",
   "language": "python",
   "name": "python3"
  },
  "language_info": {
   "codemirror_mode": {
    "name": "ipython",
    "version": 3
   },
   "file_extension": ".py",
   "mimetype": "text/x-python",
   "name": "python",
   "nbconvert_exporter": "python",
   "pygments_lexer": "ipython3",
   "version": "3.10.16"
  }
 },
 "nbformat": 4,
 "nbformat_minor": 2
}
